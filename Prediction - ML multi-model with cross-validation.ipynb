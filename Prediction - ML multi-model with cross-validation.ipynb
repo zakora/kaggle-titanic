{
 "cells": [
  {
   "cell_type": "markdown",
   "metadata": {},
   "source": [
    "# Prediction using multiple models and cross-validation\n",
    "\n",
    "Inspired by the following blogpost: http://www.bittenbypython.com/machine-learning-kaggle-titanic.html"
   ]
  },
  {
   "cell_type": "code",
   "execution_count": 36,
   "metadata": {},
   "outputs": [],
   "source": [
    "import pandas as pd\n",
    "import numpy as np\n",
    "from sklearn import preprocessing, svm\n",
    "from sklearn.ensemble import RandomForestRegressor\n",
    "from sklearn.linear_model import LinearRegression\n",
    "from sklearn.model_selection import cross_val_score\n",
    "from sklearn.preprocessing import Imputer, LabelEncoder, StandardScaler\n",
    "from sklearn.tree import DecisionTreeRegressor"
   ]
  },
  {
   "cell_type": "markdown",
   "metadata": {},
   "source": [
    "## Getting the data\n",
    "\n",
    "We split the data into two:\n",
    "1. The data (our X) without the outcome\n",
    "2. The outcome (also known as \"labels\", or Y)"
   ]
  },
  {
   "cell_type": "code",
   "execution_count": 37,
   "metadata": {},
   "outputs": [],
   "source": [
    "df = pd.read_csv('train.csv')\n",
    "labels = df[\"Survived\"]"
   ]
  },
  {
   "cell_type": "markdown",
   "metadata": {},
   "source": [
    "The data (X) is transformed with the following operations:\n",
    "- remove what we think are unecessary dimensions\n",
    "- replace categorical data with binary data\n",
    "- put values when some values or missing (NaN)\n",
    "- normalize the data\n",
    "\n",
    "It is useful to have a function to do this, as the test data will be passed through the same operations."
   ]
  },
  {
   "cell_type": "code",
   "execution_count": 38,
   "metadata": {},
   "outputs": [],
   "source": [
    "def to_binstd(df):\n",
    "    # Drop some dimensions\n",
    "    drops = [\"PassengerId\", \"Name\", \"Ticket\", \"Cabin\"]\n",
    "    if \"Survived\" in df.columns:\n",
    "        drops.append(\"Survived\")\n",
    "        \n",
    "    df = df.drop(drops, axis=1)\n",
    "\n",
    "    # Convert categorical data to binary data\n",
    "    df = pd.get_dummies(df, columns=[\"Pclass\", \"Sex\", \"Embarked\"])\n",
    "\n",
    "    # Fix NaNs\n",
    "    imputer = Imputer(strategy=\"median\")\n",
    "    X = imputer.fit_transform(df)\n",
    "    df = pd.DataFrame(X, columns=df.columns)\n",
    "\n",
    "    # Normalize data\n",
    "    std = StandardScaler()\n",
    "    X = std.fit_transform(df)\n",
    "    df = pd.DataFrame(X, columns=df.columns)\n",
    "    \n",
    "    return df\n",
    "\n",
    "df = to_binstd(df)"
   ]
  },
  {
   "cell_type": "markdown",
   "metadata": {},
   "source": [
    "## Cross-validation\n",
    "\n",
    "We will use cross-validation to have an idea of our model representation of the data."
   ]
  },
  {
   "cell_type": "code",
   "execution_count": 39,
   "metadata": {},
   "outputs": [],
   "source": [
    "def crossval(model, X, Y):\n",
    "    model.fit(X, Y)\n",
    "    # TODO check other scoring methods\n",
    "    score = cross_val_score(model, X, Y, scoring=\"neg_mean_squared_error\", cv=10)\n",
    "    rmse = np.sqrt(-score)\n",
    "    print(\"mean: {}, std: {}\".format(rmse.mean(), rmse.std()))"
   ]
  },
  {
   "cell_type": "markdown",
   "metadata": {},
   "source": [
    "## SVM\n",
    "\n",
    "Create the the SVM model with the default SciKit parameters, then fit the data."
   ]
  },
  {
   "cell_type": "code",
   "execution_count": 40,
   "metadata": {},
   "outputs": [
    {
     "name": "stdout",
     "output_type": "stream",
     "text": [
      "mean: 0.4142385677288476, std: 0.034919479912234534\n"
     ]
    }
   ],
   "source": [
    "cls_svm = svm.SVC()\n",
    "crossval(cls_svm, df, labels)"
   ]
  },
  {
   "cell_type": "markdown",
   "metadata": {},
   "source": [
    "## Linear Regression"
   ]
  },
  {
   "cell_type": "code",
   "execution_count": 41,
   "metadata": {},
   "outputs": [
    {
     "name": "stdout",
     "output_type": "stream",
     "text": [
      "mean: 0.3823559603081141, std: 0.0196987452041817\n"
     ]
    }
   ],
   "source": [
    "linreg = LinearRegression()\n",
    "\n",
    "crossval(linreg, df, labels)"
   ]
  },
  {
   "cell_type": "markdown",
   "metadata": {},
   "source": [
    "## Predictions on the test data\n",
    "\n",
    "Now that our model have learned from the training data, we can ask them to make predictions about new data."
   ]
  },
  {
   "cell_type": "code",
   "execution_count": 42,
   "metadata": {},
   "outputs": [],
   "source": [
    "def write_predic(filepath, df, pred):\n",
    "    with open(filepath, \"w\") as f:\n",
    "        f.write(\"PassengerId,Survived\\n\")\n",
    "        for i, j in zip(df.PassengerId, pred):\n",
    "            j = 0 if j < 0.5 else 1\n",
    "            f.write(f\"{i},{j}\\n\")\n",
    "            \n",
    "dftest_init = pd.read_csv(\"test.csv\")\n",
    "dftest = to_binstd(dftest_init)\n",
    "\n",
    "pred_svm = cls_svm.predict(dftest)\n",
    "write_predic(\"/tmp/svm_predict.csv\", dftest_init, pred_svm)\n",
    "\n",
    "pred_linreg = linreg.predict(dftest)\n",
    "write_predic(\"/tmp/linreg_predict.csv\", dftest_init, pred_linreg)"
   ]
  }
 ],
 "metadata": {
  "kernelspec": {
   "display_name": "Python 3",
   "language": "python",
   "name": "python3"
  }
 },
 "nbformat": 4,
 "nbformat_minor": 2
}
