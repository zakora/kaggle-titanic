{
 "cells": [
  {
   "cell_type": "code",
   "execution_count": 130,
   "metadata": {},
   "outputs": [],
   "source": [
    "import pandas as pd\n",
    "import numpy as np\n",
    "from sklearn import preprocessing, svm\n",
    "from sklearn.ensemble import RandomForestRegressor\n",
    "from sklearn.linear_model import LinearRegression\n",
    "from sklearn.model_selection import cross_val_score\n",
    "from sklearn.preprocessing import Imputer, StandardScaler\n",
    "from sklearn.tree import DecisionTreeRegressor"
   ]
  },
  {
   "cell_type": "code",
   "execution_count": 131,
   "metadata": {},
   "outputs": [],
   "source": [
    "def load_df(f):\n",
    "    df = pd.read_csv(f)\n",
    "    df.Embarked = df.Embarked.astype(dtype='category')\n",
    "    df.Sex = df.Sex.astype(dtype='category')\n",
    "    df.Pclass = df.Pclass.astype(dtype='category')\n",
    "    return df.loc[:, ('Pclass', 'Sex', 'Age', 'SibSp', 'Parch', 'Fare', 'Embarked')]\n",
    "\n",
    "dfX = load_df('train.csv')\n",
    "X = pd.get_dummies(dfX)\n",
    "\n",
    "df = pd.read_csv('train.csv')\n",
    "Y = df.Survived"
   ]
  },
  {
   "cell_type": "markdown",
   "metadata": {},
   "source": [
    "**Like BittenByPython**"
   ]
  },
  {
   "cell_type": "code",
   "execution_count": 132,
   "metadata": {},
   "outputs": [
    {
     "name": "stdout",
     "output_type": "stream",
     "text": [
      "SVM\n",
      "[0.40824829 0.43461349 0.46204236 0.36719404 0.36719404 0.42399915\n",
      " 0.42399915 0.47404546 0.38218767 0.39886202]\n",
      "mean: 0.4142385677288476\n",
      "stdev: 0.034919479912234534\n",
      "Linear regression\n",
      "[0.38521106 0.37751059 0.39821157 0.39285864 0.39030777 0.37441657\n",
      " 0.39442241 0.4056701  0.33142829 0.37352259]\n",
      "mean: 0.3823559603081141\n",
      "stdev: 0.0196987452041817\n"
     ]
    }
   ],
   "source": [
    "df = pd.read_csv('train.csv')\n",
    "\n",
    "labels = df[\"Survived\"]\n",
    "\n",
    "def to_binstd(df):\n",
    "    # Drop some dimensions\n",
    "    drops = [\"PassengerId\", \"Name\", \"Ticket\", \"Cabin\"]\n",
    "    if \"Survived\" in df.columns:\n",
    "        drops.append(\"Survived\")\n",
    "        \n",
    "    df = df.drop(drops, axis=1)\n",
    "\n",
    "    # Convert categorical data to binary data\n",
    "    df = pd.get_dummies(df, columns=[\"Pclass\", \"Sex\", \"Embarked\"])\n",
    "\n",
    "    # Fix NaNs\n",
    "    imputer = Imputer(strategy=\"median\")\n",
    "    X = imputer.fit_transform(df)\n",
    "    df = pd.DataFrame(X, columns=df.columns)\n",
    "\n",
    "    # Normalize data\n",
    "    std = StandardScaler()\n",
    "    X = std.fit_transform(df)\n",
    "    df = pd.DataFrame(X, columns=df.columns)\n",
    "    \n",
    "    return df\n",
    "\n",
    "def write_predic(filepath, df, pred):\n",
    "    with open(filepath, \"w\") as f:\n",
    "        f.write(\"PassengerId,Survived\\n\")\n",
    "        f.write(\"\\n\".join([','.join([str(i), str(j)]) for i, j in zip(df.PassengerId, pred)]))\n",
    "\n",
    "df = to_binstd(df)\n",
    "\n",
    "# Apply SVM\n",
    "cls_svm = svm.SVC()\n",
    "cls_svm.fit(df, labels)\n",
    "\n",
    "svm_score = cross_val_score(cls_svm, df, labels, scoring=\"neg_mean_squared_error\", cv=10)\n",
    "svm_rmse = np.sqrt(-svm_score)\n",
    "print(\"SVM\")\n",
    "print(svm_rmse)\n",
    "print(\"mean:\", svm_rmse.mean())\n",
    "print(\"stdev:\", svm_rmse.std())\n",
    "\n",
    "\n",
    "# Apply LinReg\n",
    "linreg = LinearRegression()\n",
    "linreg.fit(df, labels)\n",
    "\n",
    "linreg_score = cross_val_score(linreg, df, labels, scoring=\"neg_mean_squared_error\", cv=10)\n",
    "linreg_rmse = np.sqrt(-linreg_score)\n",
    "print(\"Linear regression\")\n",
    "print(linreg_rmse)\n",
    "print(\"mean:\", linreg_rmse.mean())\n",
    "print(\"stdev:\", linreg_rmse.std())\n",
    "\n",
    "# Prediction\n",
    "dftest_init = pd.read_csv(\"test.csv\")\n",
    "dftest = to_binstd(dftest_init)\n",
    "pred = cls_svm.predict(dftest)\n",
    "write_predic(\"/tmp/predic.csv\", dftest_init, pred)"
   ]
  },
  {
   "cell_type": "markdown",
   "metadata": {},
   "source": [
    "** own **"
   ]
  },
  {
   "cell_type": "code",
   "execution_count": 133,
   "metadata": {},
   "outputs": [
    {
     "name": "stdout",
     "output_type": "stream",
     "text": [
      "<class 'pandas.core.frame.DataFrame'>\n",
      "RangeIndex: 891 entries, 0 to 890\n",
      "Data columns (total 7 columns):\n",
      "Pclass      891 non-null category\n",
      "Sex         891 non-null category\n",
      "Age         714 non-null float64\n",
      "SibSp       891 non-null int64\n",
      "Parch       891 non-null int64\n",
      "Fare        891 non-null float64\n",
      "Embarked    889 non-null category\n",
      "dtypes: category(3), float64(2), int64(2)\n",
      "memory usage: 30.8 KB\n"
     ]
    }
   ],
   "source": [
    "dfX.info()"
   ]
  },
  {
   "cell_type": "code",
   "execution_count": 134,
   "metadata": {},
   "outputs": [
    {
     "data": {
      "text/plain": [
       "Pclass        0\n",
       "Sex           0\n",
       "Age         177\n",
       "SibSp         0\n",
       "Parch         0\n",
       "Fare          0\n",
       "Embarked      2\n",
       "dtype: int64"
      ]
     },
     "execution_count": 134,
     "metadata": {},
     "output_type": "execute_result"
    }
   ],
   "source": [
    "dfX.isna().sum()"
   ]
  },
  {
   "cell_type": "code",
   "execution_count": 135,
   "metadata": {},
   "outputs": [],
   "source": [
    "imp = Imputer(missing_values='NaN', strategy='mean')\n",
    "imp.fit(X)\n",
    "Xts = imp.transform(X)"
   ]
  },
  {
   "cell_type": "code",
   "execution_count": 136,
   "metadata": {},
   "outputs": [
    {
     "data": {
      "text/plain": [
       "SVC(C=1.0, cache_size=200, class_weight=None, coef0=0.0,\n",
       "  decision_function_shape='ovr', degree=3, gamma='auto', kernel='rbf',\n",
       "  max_iter=-1, probability=False, random_state=None, shrinking=True,\n",
       "  tol=0.001, verbose=False)"
      ]
     },
     "execution_count": 136,
     "metadata": {},
     "output_type": "execute_result"
    }
   ],
   "source": [
    "cls = svm.SVC()\n",
    "cls.fit(Xts, Y)"
   ]
  },
  {
   "cell_type": "code",
   "execution_count": 137,
   "metadata": {},
   "outputs": [],
   "source": [
    "test_data = load_df('test.csv')\n",
    "Xtest = pd.get_dummies(test_data)\n",
    "Xtest_ts = imp.transform(Xtest) "
   ]
  },
  {
   "cell_type": "code",
   "execution_count": 138,
   "metadata": {},
   "outputs": [],
   "source": [
    "pred = cls.predict(Xtest_ts)"
   ]
  }
 ],
 "metadata": {
  "kernelspec": {
   "display_name": "Python 3",
   "language": "python",
   "name": "python3"
  },
  "language_info": {
   "codemirror_mode": {
    "name": "ipython",
    "version": 3
   },
   "file_extension": ".py",
   "mimetype": "text/x-python",
   "name": "python",
   "nbconvert_exporter": "python",
   "pygments_lexer": "ipython3",
   "version": "3.6.3"
  }
 },
 "nbformat": 4,
 "nbformat_minor": 2
}
